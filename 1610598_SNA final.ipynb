{
 "cells": [
  {
   "cell_type": "code",
   "execution_count": 160,
   "metadata": {},
   "outputs": [],
   "source": [
    "from stackapi import StackAPI, StackAPIError\n",
    "#passing website and key\n",
    "SITE = StackAPI('stackoverflow',key='1m2D1EmsS*nKHGMwKBEAgQ((')\n",
    "SITE.max_pages=5\n",
    "SITE.page_size=100\n",
    "#calling questions API to get questions wtagged with Java and sorted by votes\n",
    "questions = SITE.fetch('questions', sort='votes',tagged='java')\n",
    "\n",
    "#passing all question ids into a array\n",
    "question_id = []\n",
    "for i in (questions['items']):\n",
    "    question_id.append(i['question_id'])"
   ]
  },
  {
   "cell_type": "code",
   "execution_count": 162,
   "metadata": {},
   "outputs": [
    {
     "name": "stdout",
     "output_type": "stream",
     "text": [
      "500\n"
     ]
    }
   ],
   "source": [
    "answer = []\n",
    "#calling API to get all answers of the questions by passing question ids\n",
    "for i in question_id:\n",
    "    ans = SITE.fetch('questions/{0}/answers/'.format(i))\n",
    "    answer.append(ans)\n",
    "print(len(answer))\n",
    "\n",
    "#getting all question ids of the answers\n",
    "quest_ids = []\n",
    "ans_data =[]\n",
    "for i in range(300):\n",
    "    d = questions['items'][i]\n",
    "    ans_data.append(questions['items'][i])\n",
    "    quest_ids.append(d['question_id'])"
   ]
  },
  {
   "cell_type": "code",
   "execution_count": 194,
   "metadata": {},
   "outputs": [
    {
     "name": "stdout",
     "output_type": "stream",
     "text": [
      "6465\n"
     ]
    }
   ],
   "source": [
    "#Passing all answers into an array as individuall answer rather than dict form\n",
    "ind_ans = []\n",
    "for i in quest_ids:\n",
    "    for r in answer:\n",
    "        for s in r['items']:\n",
    "            if s['question_id'] == i:\n",
    "                ind_ans.append(s)\n",
    "print(len(ind_ans))"
   ]
  },
  {
   "cell_type": "code",
   "execution_count": 195,
   "metadata": {},
   "outputs": [],
   "source": [
    "import csv\n",
    "\n",
    "#header defnition\n",
    "def header(file,result):\n",
    "    result =[]\n",
    "    #header for all posts file\n",
    "    if file == 'allposts':\n",
    "        result.append('Tags'); result.append('Asker Reputation'); result.append('Asker Id')\n",
    "        result.append('Asker Name');result.append('Link to Asker')\n",
    "        result.append('Is Answered');result.append('View Count');result.append('Answer Count')\n",
    "        result.append('Score');result.append('last_activity_date');result.append('creation_date')\n",
    "        result.append('Question Id');result.append('link');result.append('Title')\n",
    "\n",
    "        result.append('Answerer Reputation');result.append('Answerer Id');result.append('user_type');\n",
    "        result.append('Answerer Name')\n",
    "        result.append('Answerer Prof Link');result.append('Is Accepted'); result.append('Answer Score');\n",
    "        result.append('Last Activity data');result.append('Last Edited date');result.append('Creation date');\n",
    "        result.append('Answer Id')\n",
    "    #header for meta_data file\n",
    "    elif (file == 'meta_data'):\n",
    "        result.append('Asker Id');result.append('Post_link');result.append('Answerer Id')\n",
    "    #header for ask_ans file\n",
    "    elif (file == 'ask_ans'):\n",
    "            result.append('Asker Id');result.append('Answerer Id')\n",
    "    return(result)\n",
    "        \n",
    "#Appendinf all questions\n",
    "def get_ques(var,file):\n",
    "    result = []\n",
    "    qown = var['owner']\n",
    "    if file == 'allposts':\n",
    "        tags = var['tags']; \n",
    "        result.append(tags)\n",
    "        ask_rep = qown['reputation'];result.append(ask_rep)\n",
    "        asker_id = qown['user_id']; result.append(asker_id)\n",
    "        asker_na = qown['display_name']; result.append(asker_na)\n",
    "        link_p = qown['link']; result.append(link_p)\n",
    "        is_ans = var['is_answered'];result.append(is_ans)\n",
    "        q_view = var['view_count']; result.append(q_view)\n",
    "        answer_c = var['answer_count']; result.append(answer_c)\n",
    "        qscore = var['score']; result.append(qscore)\n",
    "        last_act = var['last_activity_date']; result.append(last_act)\n",
    "        creat_d = var['creation_date']; result.append(creat_d)\n",
    "        qid = var['question_id'];result.append(qid)\n",
    "        link = var['link']; result.append(link)\n",
    "        title = var['title'];result.append(title)\n",
    "    elif (file == 'meta_data'):\n",
    "        asker_id = qown['user_id']; result.append(asker_id)\n",
    "        link = var['link']; result.append(link)\n",
    "    elif (file == 'ask_ans'):\n",
    "            asker_id = qown['user_id']; result.append(asker_id)\n",
    "    return(result)\n",
    "\n",
    "#Appending all answers\n",
    "def get_ans(i,val,file,tsvout):\n",
    "    result = get_ques(i,file)\n",
    "    aown = val['owner']\n",
    "    if file == 'allposts':\n",
    "        ansr_rep = aown['reputation'];result.append(ansr_rep)\n",
    "        ansr_id = aown['user_id'];result.append(ansr_id)\n",
    "        ansr_type = aown['user_type'];result.append(ansr_type)\n",
    "        ansr_name = aown['display_name'];result.append(ansr_name)\n",
    "        ansr_type = aown['user_type'];result.append(ansr_type)\n",
    "        ansr_link = aown['link'];result.append(ansr_link)\n",
    "        is_acc = val['is_accepted'];result.append(is_acc)\n",
    "        ans_score = val['score'];result.append(ans_score)\n",
    "        last_ac = val['last_activity_date'];result.append(last_ac)\n",
    "        cre_d = val['creation_date']; result.append(cre_d)\n",
    "        ans_id = val['answer_id']; result.append(ans_id)\n",
    "        tsvout.writerow(result)\n",
    "    else:\n",
    "        ansr_id = aown['user_id'];result.append(ansr_id)\n",
    "        tsvout.writerow(result)\n"
   ]
  },
  {
   "cell_type": "code",
   "execution_count": 196,
   "metadata": {},
   "outputs": [],
   "source": [
    "#main function defnition\n",
    "def main(file):\n",
    "    import csv\n",
    "    result = []\n",
    "    #opening and writing the fetched data into out.tsv file\n",
    "    with open('C:/Users/Akhil/Desktop/out.tsv', 'w',encoding='utf-8') as tsvout:\n",
    "        result = header(file,result);\n",
    "        tsvout = csv.writer(tsvout, delimiter = '\\t')\n",
    "        #writing header\n",
    "        tsvout.writerow(result)\n",
    "        #getting data where the questions and answers having same question_id and appending\n",
    "        for i in ans_data:\n",
    "            for j in ind_ans:\n",
    "                if i['question_id'] == j['question_id']:\n",
    "                    q_own = j['owner'];a_own = i['owner']\n",
    "                    #exclusion of users who are not registered\n",
    "                    if q_own['user_type'] == 'does_not_exist' or a_own['user_type'] == 'does_not_exist':\n",
    "                        continue\n",
    "                    get_ans(i,j,file,tsvout)\n",
    "#             break\n",
    "    print('{0}.tsv file generated'.format(file))"
   ]
  },
  {
   "cell_type": "code",
   "execution_count": 200,
   "metadata": {},
   "outputs": [
    {
     "name": "stdout",
     "output_type": "stream",
     "text": [
      "allposts.tsv file generated\n",
      "meta_data.tsv file generated\n",
      "ask_ans.tsv file generated\n"
     ]
    }
   ],
   "source": [
    "main('allposts')\n",
    "main('meta_data')\n",
    "main('ask_ans')"
   ]
  }
 ],
 "metadata": {
  "kernelspec": {
   "display_name": "Python 3",
   "language": "python",
   "name": "python3"
  },
  "language_info": {
   "codemirror_mode": {
    "name": "ipython",
    "version": 3
   },
   "file_extension": ".py",
   "mimetype": "text/x-python",
   "name": "python",
   "nbconvert_exporter": "python",
   "pygments_lexer": "ipython3",
   "version": "3.7.1"
  }
 },
 "nbformat": 4,
 "nbformat_minor": 2
}
